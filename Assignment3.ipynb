{
 "cells": [
  {
   "cell_type": "code",
   "execution_count": null,
   "id": "b65e708a-3b84-49ea-a79d-e9b41f0a7d07",
   "metadata": {},
   "outputs": [],
   "source": [
    "#Ans1:\n",
    "For loops are used when you want to do \n",
    "operations on each member of a sequence, \n",
    "in order. While loops are used when you \n",
    "need to: operate on the elements out-of-order, \n",
    "access / operate on multiple elements simultaneously, \n",
    "or loop until some condition changes from True to False. "
   ]
  },
  {
   "cell_type": "code",
   "execution_count": 1,
   "id": "70af67dd-d88f-47f2-b814-6f17b7e70047",
   "metadata": {},
   "outputs": [
    {
     "name": "stdout",
     "output_type": "stream",
     "text": [
      "55 3628800\n"
     ]
    }
   ],
   "source": [
    "#Ans2:using for loop\n",
    "sum=0\n",
    "product=1\n",
    "i=1\n",
    "while(i<=10):\n",
    "    sum+=i\n",
    "    product*=i\n",
    "    i+=1\n",
    "print(sum,product)"
   ]
  },
  {
   "cell_type": "code",
   "execution_count": 2,
   "id": "34ba283f-9e7d-41f2-af75-754a3c16cc7f",
   "metadata": {},
   "outputs": [
    {
     "name": "stdout",
     "output_type": "stream",
     "text": [
      "55 3628800\n"
     ]
    }
   ],
   "source": [
    "#Ans2: using while loop\n",
    "sum=0\n",
    "product=1\n",
    "for i in range(1,11):\n",
    "    sum+=i\n",
    "    product*=i\n",
    "print(sum,product)\n",
    "\n"
   ]
  },
  {
   "cell_type": "code",
   "execution_count": 5,
   "id": "d8ac2f6b-e3ca-4f93-8b74-d825983566ee",
   "metadata": {},
   "outputs": [
    {
     "name": "stdin",
     "output_type": "stream",
     "text": [
      "enter the unit of the electric bills 310\n"
     ]
    },
    {
     "name": "stdout",
     "output_type": "stream",
     "text": [
      "2250.0\n"
     ]
    }
   ],
   "source": [
    "#Ans3:\n",
    "electric_com=int(input('enter the unit of the electric bills'))\n",
    "if electric_com>300:\n",
    "                 charge=electric_com-300\n",
    "                 bill=charge*20\n",
    "                 electric_com=electric_com-charge\n",
    "if electric_com>200 and electric_com<=300 :\n",
    "                 charge=electric_com-200\n",
    "                 bill=bill+charge*10\n",
    "                 electric_com=electric_com-charge\n",
    "if electric_com>100 and electric_com<=200:\n",
    "                 charge=electric_com-100\n",
    "                 bill=bill+charge*6\n",
    "                 electric_com=electric_com-charge\n",
    "if electric_com<=100 and electric_com>0:\n",
    "                 charge=electric_com\n",
    "                 bill=bill+charge*4.5\n",
    "print(bill)\n",
    "                 "
   ]
  },
  {
   "cell_type": "code",
   "execution_count": 1,
   "id": "7bacd948-843e-4a70-8b70-e74ce5e1df2f",
   "metadata": {},
   "outputs": [
    {
     "data": {
      "text/plain": [
       "[2,\n",
       " 4,\n",
       " 5,\n",
       " 6,\n",
       " 8,\n",
       " 10,\n",
       " 12,\n",
       " 14,\n",
       " 15,\n",
       " 16,\n",
       " 18,\n",
       " 20,\n",
       " 22,\n",
       " 24,\n",
       " 25,\n",
       " 26,\n",
       " 28,\n",
       " 30,\n",
       " 32,\n",
       " 34,\n",
       " 35,\n",
       " 36,\n",
       " 38,\n",
       " 40,\n",
       " 42,\n",
       " 44,\n",
       " 45,\n",
       " 46,\n",
       " 48,\n",
       " 50,\n",
       " 52,\n",
       " 54,\n",
       " 55,\n",
       " 56,\n",
       " 58,\n",
       " 60,\n",
       " 62,\n",
       " 64,\n",
       " 65,\n",
       " 66,\n",
       " 68,\n",
       " 70,\n",
       " 72,\n",
       " 74,\n",
       " 75,\n",
       " 76,\n",
       " 78,\n",
       " 80,\n",
       " 82,\n",
       " 84,\n",
       " 85,\n",
       " 86,\n",
       " 88,\n",
       " 90,\n",
       " 92,\n",
       " 94,\n",
       " 95,\n",
       " 96,\n",
       " 98,\n",
       " 100]"
      ]
     },
     "execution_count": 1,
     "metadata": {},
     "output_type": "execute_result"
    }
   ],
   "source": [
    "#Ans4:\n",
    "l1=[]\n",
    "for i in range(1,101):\n",
    "    j= i**3\n",
    "    if(j%4==0 or j%5==0):\n",
    "        l1.append(i)\n",
    "l1"
   ]
  },
  {
   "cell_type": "code",
   "execution_count": 7,
   "id": "23464b43-82b5-4ee0-b6db-ce7650733dfb",
   "metadata": {},
   "outputs": [
    {
     "name": "stdout",
     "output_type": "stream",
     "text": [
      "12\n"
     ]
    }
   ],
   "source": [
    "# Ans 5:\n",
    "s='I want to become a data scientist'\n",
    "l=['a','e','i','o','u']\n",
    "count=0\n",
    "for i in s:\n",
    "    for j in l:\n",
    "        if(i.upper()==j.upper()):\n",
    "            count+=1\n",
    "print(count)\n"
   ]
  },
  {
   "cell_type": "code",
   "execution_count": null,
   "id": "6b0f6577-8388-4b6c-81d8-c95aca587908",
   "metadata": {},
   "outputs": [],
   "source": []
  }
 ],
 "metadata": {
  "kernelspec": {
   "display_name": "Python 3 (ipykernel)",
   "language": "python",
   "name": "python3"
  },
  "language_info": {
   "codemirror_mode": {
    "name": "ipython",
    "version": 3
   },
   "file_extension": ".py",
   "mimetype": "text/x-python",
   "name": "python",
   "nbconvert_exporter": "python",
   "pygments_lexer": "ipython3",
   "version": "3.10.8"
  }
 },
 "nbformat": 4,
 "nbformat_minor": 5
}
